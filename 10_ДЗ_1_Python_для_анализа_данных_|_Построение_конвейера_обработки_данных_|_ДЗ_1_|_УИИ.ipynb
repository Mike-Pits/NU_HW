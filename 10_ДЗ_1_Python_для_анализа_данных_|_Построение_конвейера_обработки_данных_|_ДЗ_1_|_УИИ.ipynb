{
  "nbformat": 4,
  "nbformat_minor": 0,
  "metadata": {
    "colab": {
      "provenance": [],
      "include_colab_link": true
    },
    "kernelspec": {
      "name": "python3",
      "display_name": "Python 3"
    }
  },
  "cells": [
    {
      "cell_type": "markdown",
      "metadata": {
        "id": "view-in-github",
        "colab_type": "text"
      },
      "source": [
        "<a href=\"https://colab.research.google.com/github/Mike-Pits/NU_HW_PY-_10_Titanic/blob/main/10_%D0%94%D0%97_1_Python_%D0%B4%D0%BB%D1%8F_%D0%B0%D0%BD%D0%B0%D0%BB%D0%B8%D0%B7%D0%B0_%D0%B4%D0%B0%D0%BD%D0%BD%D1%8B%D1%85_%7C_%D0%9F%D0%BE%D1%81%D1%82%D1%80%D0%BE%D0%B5%D0%BD%D0%B8%D0%B5_%D0%BA%D0%BE%D0%BD%D0%B2%D0%B5%D0%B9%D0%B5%D1%80%D0%B0_%D0%BE%D0%B1%D1%80%D0%B0%D0%B1%D0%BE%D1%82%D0%BA%D0%B8_%D0%B4%D0%B0%D0%BD%D0%BD%D1%8B%D1%85_%7C_%D0%94%D0%97_1_%7C_%D0%A3%D0%98%D0%98.ipynb\" target=\"_parent\"><img src=\"https://colab.research.google.com/assets/colab-badge.svg\" alt=\"Open In Colab\"/></a>"
      ]
    },
    {
      "cell_type": "markdown",
      "metadata": {
        "id": "4UhsgR8dytZq"
      },
      "source": [
        "Все домашние задания по данному занятию будут построены на базе ```house_train.csv```, которая содержит цены на жилье и разные параметры этого жилья.\n",
        "\n",
        "Полное описание признаков датасета:\n",
        "    \n",
        "* SalePrice: Цена продажи недвижимости в долларах. Это целевая переменная, которую нужно будет пытаться предсказать.\n",
        "* MSSubClass: Класс здания\n",
        "* MSZoning: Общая классификация зонирования\n",
        "* LotFrontage: Погонные метры улицы соединенной с объектом\n",
        "* LotArea: Размер лота в квардратных футах\n",
        "* Street: Тип подъездной дороги\n",
        "* Alley: Тип подъезда к аллее\n",
        "* LotShape: Общий вид собственности\n",
        "* LandContour: Плоскость собственности\n",
        "* Utilities: Тип доступных коммунальных услуг\n",
        "* LotConfig: Конфигурация лота\n",
        "* LandSlope: Наклон собственности\n",
        "* Neighborhood: Физические места в пределах города Эймс\n",
        "* Condition1: Близость к главной дороге или железной дороге\n",
        "* Condition2: Близость к главной дороге или железной дороге (если есть второй)\n",
        "* BldgType: Тип объекта\n",
        "* HouseStyle: Стиль объекта\n",
        "* OverallQual: Общее качество материала и отделки\n",
        "* OverallCond: Общий рейтинг состояния\n",
        "* YearBuilt: Дата первоначального строительства\n",
        "* YearRemodAdd: Дата переделки\n",
        "* RoofStyle: Тип крыши\n",
        "* RoofMatl: Материал крыши\n",
        "* Exterior1st: Наружное покрытие дома\n",
        "* Exterior2nd: Наружное покрытие дома (если больше одного материала)\n",
        "* MasVnrType: Тип облицовки кладки\n",
        "* MasVnrArea: Площадь облицовки каменной кладкой в квадратных футах\n",
        "* ExterQual: Качество наружных материалов\n",
        "* ExterCond: Текущее состояние материала снаружи\n",
        "* Foundation: Тип фундамента\n",
        "* BsmtQual: Высота подвала\n",
        "* BsmtCond: Общее состояние подвала\n",
        "* BsmtExposure: Стены подвала на уровне сада или выхода\n",
        "* BsmtFinType1: Качество готовой площади подвала\n",
        "* BsmtFinSF1: Готовые квадратные футы типа 1\n",
        "* BsmtFinType2: Качество второй готовой площади (при наличии)\n",
        "* BsmtFinSF2: Готовые квадратные футы типа 2\n",
        "* BsmtUnfSF: Незаконченные квадратные метры подвального помещения\n",
        "* TotalBsmtSF: Общая площадь подвала в квадратных футах\n",
        "* Heating: Тип отопления\n",
        "* HeatingQC: Качество и состояние отопления\n",
        "* CentralAir: Центральное кондиционирование\n",
        "* Electrical: Электрическая система\n",
        "* 1stFlrSF: Квадратные футы первого этажа\n",
        "* 2ndFlrSF: Квадратные метры второго этажа\n",
        "* LowQualFinSF: Некачественная отделка квадратных футов (все этажи)\n",
        "* GrLivArea: Надземная жилая площадь в квадратных футах\n",
        "* BsmtFullBath: Ванная комната на цокольном этаже\n",
        "* BsmtHalfBath: Полуподвальная ванная комната\n",
        "* FullBath: Ванные комнаты высшего класса\n",
        "* HalfBath: Полуванные комнаты высшего класса\n",
        "* Bedroom: Количество спален над цокольным этажом\n",
        "* Kitchen: Кол-во кухонь\n",
        "* KitchenQual: Качество кухни\n",
        "* TotRmsAbvGrd: Комнаты выше уровня (не включая ванные комнаты)\n",
        "* Functional: Рейтинг функциональности дома\n",
        "* Fireplaces: Количество каминов\n",
        "* FireplaceQu: Качество камина\n",
        "* GarageType: Расположение гаража\n",
        "* GarageYrBlt: Год постройки гаража\n",
        "* GarageFinish: Внутренняя отделка гаража\n",
        "* GarageCars: Размер гаража для машины\n",
        "* GarageArea: Размер гаража в квадратных футах\n",
        "* GarageQual: Качество гаража\n",
        "* GarageCond: Состояние гаража\n",
        "* PavedDrive: Асфальтированная подъездная дорога\n",
        "* WoodDeckSF: Площадь деревянной террасы в квадратных футах\n",
        "* OpenPorchSF: Площадь открытой веранды в квадратных футах\n",
        "* EnclosedPorch: Площадь закрытого крыльца в квадратных футах\n",
        "* 3SsnPorch: Площадь крыльца на три сезона в квадратных футах\n",
        "* ScreenPorch: Площадь крыльца экрана в квадратных футах\n",
        "* PoolArea: Площадь бассейна в квадратных футах\n",
        "* PoolQC: Качество бассейна\n",
        "* Fence: Качество забора\n",
        "* MiscFeature: Прочие функции, не включенные в другие категории\n",
        "* MiscVal: Ценность разного свойства\n",
        "* MoSold: Количество месяцев\n",
        "* YrSold: Количество лет\n",
        "* SaleType: Тип продажи\n",
        "* SaleCondition: Состояние продажи"
      ]
    },
    {
      "cell_type": "markdown",
      "metadata": {
        "id": "Owu684lKKrjJ"
      },
      "source": [
        "1. Загрузите данные датасета ```house_train.csv```. Импортируйте библиотеку Pandas и выведите на экран датасет в формате датафрейма. \n"
      ]
    },
    {
      "cell_type": "code",
      "metadata": {
        "id": "f9_8IGndLeRO"
      },
      "source": [
        "# Библиотека для загрузки датасета из облака google\n",
        "import gdown\n",
        "\n",
        "# Запустите ячейку для загрузки датасета house_train.csv в директорию\n",
        "url = 'https://storage.yandexcloud.net/aiueducation/Content/additional/pad/house_train.csv'\n",
        "gdown.download(url, None, quiet=False)"
      ],
      "execution_count": null,
      "outputs": []
    },
    {
      "cell_type": "code",
      "metadata": {
        "id": "bBYJypKky712"
      },
      "source": [
        "# Ваше решение"
      ],
      "execution_count": null,
      "outputs": []
    },
    {
      "cell_type": "markdown",
      "metadata": {
        "id": "fSuZeNQ_bR3p"
      },
      "source": [
        "2. Найдите признаки с пропусками. Если количество пропусков в признаке больше 50%, то удалите весь столбец признака. Если не более 50%, то пропуски замените на среднее значение в случае численного признака и на наиболее часто встречаемое значение в случае категориального."
      ]
    },
    {
      "cell_type": "code",
      "metadata": {
        "id": "qCdjZ4iGbSZo"
      },
      "source": [
        "# Ваше решение"
      ],
      "execution_count": null,
      "outputs": []
    }
  ]
}